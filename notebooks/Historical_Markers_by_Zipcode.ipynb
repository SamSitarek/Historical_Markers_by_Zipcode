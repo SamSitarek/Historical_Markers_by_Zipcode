{
 "cells": [
  {
   "cell_type": "code",
   "execution_count": 1,
   "id": "cda94759",
   "metadata": {},
   "outputs": [
    {
     "name": "stdout",
     "output_type": "stream",
     "text": [
      "Requirement already satisfied: jupyterthemes in c:\\users\\samantha\\anaconda3\\lib\\site-packages (0.20.0)\n",
      "Requirement already satisfied: notebook>=5.6.0 in c:\\users\\samantha\\anaconda3\\lib\\site-packages (from jupyterthemes) (6.3.0)\n",
      "Requirement already satisfied: lesscpy>=0.11.2 in c:\\users\\samantha\\anaconda3\\lib\\site-packages (from jupyterthemes) (0.14.0)\n",
      "Requirement already satisfied: jupyter-core in c:\\users\\samantha\\anaconda3\\lib\\site-packages (from jupyterthemes) (4.7.1)\n",
      "Requirement already satisfied: ipython>=5.4.1 in c:\\users\\samantha\\anaconda3\\lib\\site-packages (from jupyterthemes) (7.22.0)\n",
      "Requirement already satisfied: matplotlib>=1.4.3 in c:\\users\\samantha\\anaconda3\\lib\\site-packages (from jupyterthemes) (3.3.4)\n",
      "Requirement already satisfied: backcall in c:\\users\\samantha\\anaconda3\\lib\\site-packages (from ipython>=5.4.1->jupyterthemes) (0.2.0)\n",
      "Requirement already satisfied: prompt-toolkit!=3.0.0,!=3.0.1,<3.1.0,>=2.0.0 in c:\\users\\samantha\\anaconda3\\lib\\site-packages (from ipython>=5.4.1->jupyterthemes) (3.0.17)\n",
      "Requirement already satisfied: setuptools>=18.5 in c:\\users\\samantha\\anaconda3\\lib\\site-packages (from ipython>=5.4.1->jupyterthemes) (52.0.0.post20210125)\n",
      "Requirement already satisfied: traitlets>=4.2 in c:\\users\\samantha\\anaconda3\\lib\\site-packages (from ipython>=5.4.1->jupyterthemes) (5.0.5)\n",
      "Requirement already satisfied: colorama in c:\\users\\samantha\\anaconda3\\lib\\site-packages (from ipython>=5.4.1->jupyterthemes) (0.4.4)\n",
      "Requirement already satisfied: decorator in c:\\users\\samantha\\anaconda3\\lib\\site-packages (from ipython>=5.4.1->jupyterthemes) (5.0.6)\n",
      "Requirement already satisfied: pickleshare in c:\\users\\samantha\\anaconda3\\lib\\site-packages (from ipython>=5.4.1->jupyterthemes) (0.7.5)\n",
      "Requirement already satisfied: pygments in c:\\users\\samantha\\anaconda3\\lib\\site-packages (from ipython>=5.4.1->jupyterthemes) (2.8.1)\n",
      "Requirement already satisfied: jedi>=0.16 in c:\\users\\samantha\\anaconda3\\lib\\site-packages (from ipython>=5.4.1->jupyterthemes) (0.17.2)\n",
      "Requirement already satisfied: parso<0.8.0,>=0.7.0 in c:\\users\\samantha\\anaconda3\\lib\\site-packages (from jedi>=0.16->ipython>=5.4.1->jupyterthemes) (0.7.0)\n",
      "Requirement already satisfied: six in c:\\users\\samantha\\anaconda3\\lib\\site-packages (from lesscpy>=0.11.2->jupyterthemes) (1.15.0)\n",
      "Requirement already satisfied: ply in c:\\users\\samantha\\anaconda3\\lib\\site-packages (from lesscpy>=0.11.2->jupyterthemes) (3.11)\n",
      "Requirement already satisfied: numpy>=1.15 in c:\\users\\samantha\\anaconda3\\lib\\site-packages (from matplotlib>=1.4.3->jupyterthemes) (1.20.1)\n",
      "Requirement already satisfied: kiwisolver>=1.0.1 in c:\\users\\samantha\\anaconda3\\lib\\site-packages (from matplotlib>=1.4.3->jupyterthemes) (1.3.1)\n",
      "Requirement already satisfied: pillow>=6.2.0 in c:\\users\\samantha\\anaconda3\\lib\\site-packages (from matplotlib>=1.4.3->jupyterthemes) (8.2.0)\n",
      "Requirement already satisfied: python-dateutil>=2.1 in c:\\users\\samantha\\anaconda3\\lib\\site-packages (from matplotlib>=1.4.3->jupyterthemes) (2.8.1)\n",
      "Requirement already satisfied: cycler>=0.10 in c:\\users\\samantha\\anaconda3\\lib\\site-packages (from matplotlib>=1.4.3->jupyterthemes) (0.10.0)\n",
      "Requirement already satisfied: pyparsing!=2.0.4,!=2.1.2,!=2.1.6,>=2.0.3 in c:\\users\\samantha\\anaconda3\\lib\\site-packages (from matplotlib>=1.4.3->jupyterthemes) (2.4.7)\n",
      "Requirement already satisfied: ipython-genutils in c:\\users\\samantha\\anaconda3\\lib\\site-packages (from notebook>=5.6.0->jupyterthemes) (0.2.0)\n",
      "Requirement already satisfied: Send2Trash>=1.5.0 in c:\\users\\samantha\\anaconda3\\lib\\site-packages (from notebook>=5.6.0->jupyterthemes) (1.5.0)\n",
      "Requirement already satisfied: jupyter-client>=5.3.4 in c:\\users\\samantha\\anaconda3\\lib\\site-packages (from notebook>=5.6.0->jupyterthemes) (6.1.12)\n",
      "Requirement already satisfied: prometheus-client in c:\\users\\samantha\\anaconda3\\lib\\site-packages (from notebook>=5.6.0->jupyterthemes) (0.10.1)\n",
      "Requirement already satisfied: terminado>=0.8.3 in c:\\users\\samantha\\anaconda3\\lib\\site-packages (from notebook>=5.6.0->jupyterthemes) (0.9.4)\n",
      "Requirement already satisfied: jinja2 in c:\\users\\samantha\\anaconda3\\lib\\site-packages (from notebook>=5.6.0->jupyterthemes) (2.11.3)\n",
      "Requirement already satisfied: tornado>=6.1 in c:\\users\\samantha\\anaconda3\\lib\\site-packages (from notebook>=5.6.0->jupyterthemes) (6.1)\n",
      "Requirement already satisfied: argon2-cffi in c:\\users\\samantha\\anaconda3\\lib\\site-packages (from notebook>=5.6.0->jupyterthemes) (20.1.0)\n",
      "Requirement already satisfied: pyzmq>=17 in c:\\users\\samantha\\anaconda3\\lib\\site-packages (from notebook>=5.6.0->jupyterthemes) (20.0.0)\n",
      "Requirement already satisfied: nbconvert in c:\\users\\samantha\\anaconda3\\lib\\site-packages (from notebook>=5.6.0->jupyterthemes) (6.0.7)\n",
      "Requirement already satisfied: ipykernel in c:\\users\\samantha\\anaconda3\\lib\\site-packages (from notebook>=5.6.0->jupyterthemes) (5.3.4)\n",
      "Requirement already satisfied: nbformat in c:\\users\\samantha\\anaconda3\\lib\\site-packages (from notebook>=5.6.0->jupyterthemes) (5.1.3)\n",
      "Requirement already satisfied: pywin32>=1.0 in c:\\users\\samantha\\anaconda3\\lib\\site-packages (from jupyter-core->jupyterthemes) (227)\n",
      "Requirement already satisfied: wcwidth in c:\\users\\samantha\\anaconda3\\lib\\site-packages (from prompt-toolkit!=3.0.0,!=3.0.1,<3.1.0,>=2.0.0->ipython>=5.4.1->jupyterthemes) (0.2.5)\n",
      "Requirement already satisfied: pywinpty>=0.5 in c:\\users\\samantha\\anaconda3\\lib\\site-packages (from terminado>=0.8.3->notebook>=5.6.0->jupyterthemes) (0.5.7)\n",
      "Requirement already satisfied: cffi>=1.0.0 in c:\\users\\samantha\\anaconda3\\lib\\site-packages (from argon2-cffi->notebook>=5.6.0->jupyterthemes) (1.14.5)\n",
      "Requirement already satisfied: pycparser in c:\\users\\samantha\\anaconda3\\lib\\site-packages (from cffi>=1.0.0->argon2-cffi->notebook>=5.6.0->jupyterthemes) (2.20)\n",
      "Requirement already satisfied: MarkupSafe>=0.23 in c:\\users\\samantha\\anaconda3\\lib\\site-packages (from jinja2->notebook>=5.6.0->jupyterthemes) (1.1.1)\n",
      "Requirement already satisfied: mistune<2,>=0.8.1 in c:\\users\\samantha\\anaconda3\\lib\\site-packages (from nbconvert->notebook>=5.6.0->jupyterthemes) (0.8.4)\n",
      "Requirement already satisfied: jupyterlab-pygments in c:\\users\\samantha\\anaconda3\\lib\\site-packages (from nbconvert->notebook>=5.6.0->jupyterthemes) (0.1.2)\n",
      "Requirement already satisfied: defusedxml in c:\\users\\samantha\\anaconda3\\lib\\site-packages (from nbconvert->notebook>=5.6.0->jupyterthemes) (0.7.1)\n",
      "Requirement already satisfied: pandocfilters>=1.4.1 in c:\\users\\samantha\\anaconda3\\lib\\site-packages (from nbconvert->notebook>=5.6.0->jupyterthemes) (1.4.3)\n",
      "Requirement already satisfied: testpath in c:\\users\\samantha\\anaconda3\\lib\\site-packages (from nbconvert->notebook>=5.6.0->jupyterthemes) (0.4.4)\n",
      "Requirement already satisfied: bleach in c:\\users\\samantha\\anaconda3\\lib\\site-packages (from nbconvert->notebook>=5.6.0->jupyterthemes) (3.3.0)\n",
      "Requirement already satisfied: entrypoints>=0.2.2 in c:\\users\\samantha\\anaconda3\\lib\\site-packages (from nbconvert->notebook>=5.6.0->jupyterthemes) (0.3)\n",
      "Requirement already satisfied: nbclient<0.6.0,>=0.5.0 in c:\\users\\samantha\\anaconda3\\lib\\site-packages (from nbconvert->notebook>=5.6.0->jupyterthemes) (0.5.3)\n",
      "Requirement already satisfied: async-generator in c:\\users\\samantha\\anaconda3\\lib\\site-packages (from nbclient<0.6.0,>=0.5.0->nbconvert->notebook>=5.6.0->jupyterthemes) (1.10)\n",
      "Requirement already satisfied: nest-asyncio in c:\\users\\samantha\\anaconda3\\lib\\site-packages (from nbclient<0.6.0,>=0.5.0->nbconvert->notebook>=5.6.0->jupyterthemes) (1.5.1)\n",
      "Requirement already satisfied: jsonschema!=2.5.0,>=2.4 in c:\\users\\samantha\\anaconda3\\lib\\site-packages (from nbformat->notebook>=5.6.0->jupyterthemes) (3.2.0)\n",
      "Requirement already satisfied: pyrsistent>=0.14.0 in c:\\users\\samantha\\anaconda3\\lib\\site-packages (from jsonschema!=2.5.0,>=2.4->nbformat->notebook>=5.6.0->jupyterthemes) (0.17.3)\n",
      "Requirement already satisfied: attrs>=17.4.0 in c:\\users\\samantha\\anaconda3\\lib\\site-packages (from jsonschema!=2.5.0,>=2.4->nbformat->notebook>=5.6.0->jupyterthemes) (20.3.0)\n",
      "Requirement already satisfied: packaging in c:\\users\\samantha\\anaconda3\\lib\\site-packages (from bleach->nbconvert->notebook>=5.6.0->jupyterthemes) (20.9)\n",
      "Requirement already satisfied: webencodings in c:\\users\\samantha\\anaconda3\\lib\\site-packages (from bleach->nbconvert->notebook>=5.6.0->jupyterthemes) (0.5.1)\n",
      "Note: you may need to restart the kernel to use updated packages.\n"
     ]
    }
   ],
   "source": [
    "pip install jupyterthemes"
   ]
  },
  {
   "cell_type": "code",
   "execution_count": 2,
   "id": "9dfd1438",
   "metadata": {},
   "outputs": [
    {
     "name": "stdout",
     "output_type": "stream",
     "text": [
      "Requirement already satisfied: jupyterthemes in c:\\users\\samantha\\anaconda3\\lib\\site-packages (0.20.0)\n",
      "Requirement already satisfied: jupyter-core in c:\\users\\samantha\\anaconda3\\lib\\site-packages (from jupyterthemes) (4.7.1)\n",
      "Requirement already satisfied: matplotlib>=1.4.3 in c:\\users\\samantha\\anaconda3\\lib\\site-packages (from jupyterthemes) (3.3.4)\n",
      "Requirement already satisfied: notebook>=5.6.0 in c:\\users\\samantha\\anaconda3\\lib\\site-packages (from jupyterthemes) (6.3.0)\n",
      "Requirement already satisfied: ipython>=5.4.1 in c:\\users\\samantha\\anaconda3\\lib\\site-packages (from jupyterthemes) (7.22.0)\n",
      "Requirement already satisfied: lesscpy>=0.11.2 in c:\\users\\samantha\\anaconda3\\lib\\site-packages (from jupyterthemes) (0.14.0)\n",
      "Requirement already satisfied: colorama in c:\\users\\samantha\\anaconda3\\lib\\site-packages (from ipython>=5.4.1->jupyterthemes) (0.4.4)\n",
      "Requirement already satisfied: setuptools>=18.5 in c:\\users\\samantha\\anaconda3\\lib\\site-packages (from ipython>=5.4.1->jupyterthemes) (52.0.0.post20210125)\n",
      "Requirement already satisfied: prompt-toolkit!=3.0.0,!=3.0.1,<3.1.0,>=2.0.0 in c:\\users\\samantha\\anaconda3\\lib\\site-packages (from ipython>=5.4.1->jupyterthemes) (3.0.17)\n",
      "Requirement already satisfied: decorator in c:\\users\\samantha\\anaconda3\\lib\\site-packages (from ipython>=5.4.1->jupyterthemes) (5.0.6)\n",
      "Requirement already satisfied: pickleshare in c:\\users\\samantha\\anaconda3\\lib\\site-packages (from ipython>=5.4.1->jupyterthemes) (0.7.5)\n",
      "Requirement already satisfied: backcall in c:\\users\\samantha\\anaconda3\\lib\\site-packages (from ipython>=5.4.1->jupyterthemes) (0.2.0)\n",
      "Requirement already satisfied: jedi>=0.16 in c:\\users\\samantha\\anaconda3\\lib\\site-packages (from ipython>=5.4.1->jupyterthemes) (0.17.2)\n",
      "Requirement already satisfied: pygments in c:\\users\\samantha\\anaconda3\\lib\\site-packages (from ipython>=5.4.1->jupyterthemes) (2.8.1)\n",
      "Requirement already satisfied: traitlets>=4.2 in c:\\users\\samantha\\anaconda3\\lib\\site-packages (from ipython>=5.4.1->jupyterthemes) (5.0.5)\n",
      "Requirement already satisfied: parso<0.8.0,>=0.7.0 in c:\\users\\samantha\\anaconda3\\lib\\site-packages (from jedi>=0.16->ipython>=5.4.1->jupyterthemes) (0.7.0)\n",
      "Requirement already satisfied: ply in c:\\users\\samantha\\anaconda3\\lib\\site-packages (from lesscpy>=0.11.2->jupyterthemes) (3.11)\n",
      "Requirement already satisfied: six in c:\\users\\samantha\\anaconda3\\lib\\site-packages (from lesscpy>=0.11.2->jupyterthemes) (1.15.0)\n",
      "Requirement already satisfied: kiwisolver>=1.0.1 in c:\\users\\samantha\\anaconda3\\lib\\site-packages (from matplotlib>=1.4.3->jupyterthemes) (1.3.1)\n",
      "Requirement already satisfied: pillow>=6.2.0 in c:\\users\\samantha\\anaconda3\\lib\\site-packages (from matplotlib>=1.4.3->jupyterthemes) (8.2.0)\n",
      "Requirement already satisfied: pyparsing!=2.0.4,!=2.1.2,!=2.1.6,>=2.0.3 in c:\\users\\samantha\\anaconda3\\lib\\site-packages (from matplotlib>=1.4.3->jupyterthemes) (2.4.7)\n",
      "Requirement already satisfied: python-dateutil>=2.1 in c:\\users\\samantha\\anaconda3\\lib\\site-packages (from matplotlib>=1.4.3->jupyterthemes) (2.8.1)\n",
      "Requirement already satisfied: cycler>=0.10 in c:\\users\\samantha\\anaconda3\\lib\\site-packages (from matplotlib>=1.4.3->jupyterthemes) (0.10.0)\n",
      "Requirement already satisfied: numpy>=1.15 in c:\\users\\samantha\\anaconda3\\lib\\site-packages (from matplotlib>=1.4.3->jupyterthemes) (1.20.1)\n",
      "Requirement already satisfied: prometheus-client in c:\\users\\samantha\\anaconda3\\lib\\site-packages (from notebook>=5.6.0->jupyterthemes) (0.10.1)\n",
      "Requirement already satisfied: jupyter-client>=5.3.4 in c:\\users\\samantha\\anaconda3\\lib\\site-packages (from notebook>=5.6.0->jupyterthemes) (6.1.12)\n",
      "Requirement already satisfied: nbconvert in c:\\users\\samantha\\anaconda3\\lib\\site-packages (from notebook>=5.6.0->jupyterthemes) (6.0.7)\n",
      "Requirement already satisfied: nbformat in c:\\users\\samantha\\anaconda3\\lib\\site-packages (from notebook>=5.6.0->jupyterthemes) (5.1.3)\n",
      "Requirement already satisfied: jinja2 in c:\\users\\samantha\\anaconda3\\lib\\site-packages (from notebook>=5.6.0->jupyterthemes) (2.11.3)\n",
      "Requirement already satisfied: Send2Trash>=1.5.0 in c:\\users\\samantha\\anaconda3\\lib\\site-packages (from notebook>=5.6.0->jupyterthemes) (1.5.0)\n",
      "Requirement already satisfied: argon2-cffi in c:\\users\\samantha\\anaconda3\\lib\\site-packages (from notebook>=5.6.0->jupyterthemes) (20.1.0)\n",
      "Requirement already satisfied: pyzmq>=17 in c:\\users\\samantha\\anaconda3\\lib\\site-packages (from notebook>=5.6.0->jupyterthemes) (20.0.0)\n",
      "Requirement already satisfied: ipykernel in c:\\users\\samantha\\anaconda3\\lib\\site-packages (from notebook>=5.6.0->jupyterthemes) (5.3.4)\n",
      "Requirement already satisfied: ipython-genutils in c:\\users\\samantha\\anaconda3\\lib\\site-packages (from notebook>=5.6.0->jupyterthemes) (0.2.0)\n",
      "Requirement already satisfied: terminado>=0.8.3 in c:\\users\\samantha\\anaconda3\\lib\\site-packages (from notebook>=5.6.0->jupyterthemes) (0.9.4)\n",
      "Requirement already satisfied: tornado>=6.1 in c:\\users\\samantha\\anaconda3\\lib\\site-packages (from notebook>=5.6.0->jupyterthemes) (6.1)\n",
      "Requirement already satisfied: pywin32>=1.0 in c:\\users\\samantha\\anaconda3\\lib\\site-packages (from jupyter-core->jupyterthemes) (227)\n",
      "Requirement already satisfied: wcwidth in c:\\users\\samantha\\anaconda3\\lib\\site-packages (from prompt-toolkit!=3.0.0,!=3.0.1,<3.1.0,>=2.0.0->ipython>=5.4.1->jupyterthemes) (0.2.5)\n",
      "Requirement already satisfied: pywinpty>=0.5 in c:\\users\\samantha\\anaconda3\\lib\\site-packages (from terminado>=0.8.3->notebook>=5.6.0->jupyterthemes) (0.5.7)\n",
      "Requirement already satisfied: cffi>=1.0.0 in c:\\users\\samantha\\anaconda3\\lib\\site-packages (from argon2-cffi->notebook>=5.6.0->jupyterthemes) (1.14.5)\n",
      "Requirement already satisfied: pycparser in c:\\users\\samantha\\anaconda3\\lib\\site-packages (from cffi>=1.0.0->argon2-cffi->notebook>=5.6.0->jupyterthemes) (2.20)\n",
      "Requirement already satisfied: MarkupSafe>=0.23 in c:\\users\\samantha\\anaconda3\\lib\\site-packages (from jinja2->notebook>=5.6.0->jupyterthemes) (1.1.1)\n",
      "Requirement already satisfied: entrypoints>=0.2.2 in c:\\users\\samantha\\anaconda3\\lib\\site-packages (from nbconvert->notebook>=5.6.0->jupyterthemes) (0.3)\n",
      "Requirement already satisfied: pandocfilters>=1.4.1 in c:\\users\\samantha\\anaconda3\\lib\\site-packages (from nbconvert->notebook>=5.6.0->jupyterthemes) (1.4.3)\n",
      "Requirement already satisfied: nbclient<0.6.0,>=0.5.0 in c:\\users\\samantha\\anaconda3\\lib\\site-packages (from nbconvert->notebook>=5.6.0->jupyterthemes) (0.5.3)\n",
      "Requirement already satisfied: jupyterlab-pygments in c:\\users\\samantha\\anaconda3\\lib\\site-packages (from nbconvert->notebook>=5.6.0->jupyterthemes) (0.1.2)\n",
      "Requirement already satisfied: defusedxml in c:\\users\\samantha\\anaconda3\\lib\\site-packages (from nbconvert->notebook>=5.6.0->jupyterthemes) (0.7.1)\n",
      "Requirement already satisfied: bleach in c:\\users\\samantha\\anaconda3\\lib\\site-packages (from nbconvert->notebook>=5.6.0->jupyterthemes) (3.3.0)\n",
      "Requirement already satisfied: mistune<2,>=0.8.1 in c:\\users\\samantha\\anaconda3\\lib\\site-packages (from nbconvert->notebook>=5.6.0->jupyterthemes) (0.8.4)\n",
      "Requirement already satisfied: testpath in c:\\users\\samantha\\anaconda3\\lib\\site-packages (from nbconvert->notebook>=5.6.0->jupyterthemes) (0.4.4)\n",
      "Requirement already satisfied: nest-asyncio in c:\\users\\samantha\\anaconda3\\lib\\site-packages (from nbclient<0.6.0,>=0.5.0->nbconvert->notebook>=5.6.0->jupyterthemes) (1.5.1)\n",
      "Requirement already satisfied: async-generator in c:\\users\\samantha\\anaconda3\\lib\\site-packages (from nbclient<0.6.0,>=0.5.0->nbconvert->notebook>=5.6.0->jupyterthemes) (1.10)\n",
      "Requirement already satisfied: jsonschema!=2.5.0,>=2.4 in c:\\users\\samantha\\anaconda3\\lib\\site-packages (from nbformat->notebook>=5.6.0->jupyterthemes) (3.2.0)\n",
      "Requirement already satisfied: attrs>=17.4.0 in c:\\users\\samantha\\anaconda3\\lib\\site-packages (from jsonschema!=2.5.0,>=2.4->nbformat->notebook>=5.6.0->jupyterthemes) (20.3.0)\n",
      "Requirement already satisfied: pyrsistent>=0.14.0 in c:\\users\\samantha\\anaconda3\\lib\\site-packages (from jsonschema!=2.5.0,>=2.4->nbformat->notebook>=5.6.0->jupyterthemes) (0.17.3)\n",
      "Requirement already satisfied: webencodings in c:\\users\\samantha\\anaconda3\\lib\\site-packages (from bleach->nbconvert->notebook>=5.6.0->jupyterthemes) (0.5.1)\n",
      "Requirement already satisfied: packaging in c:\\users\\samantha\\anaconda3\\lib\\site-packages (from bleach->nbconvert->notebook>=5.6.0->jupyterthemes) (20.9)\n",
      "Note: you may need to restart the kernel to use updated packages.\n"
     ]
    }
   ],
   "source": [
    "pip install --upgrade jupyterthemes"
   ]
  },
  {
   "cell_type": "code",
   "execution_count": 3,
   "id": "d6be54e4",
   "metadata": {},
   "outputs": [
    {
     "name": "stdout",
     "output_type": "stream",
     "text": [
      "Available Themes: \n",
      "   chesterish\n",
      "   grade3\n",
      "   gruvboxd\n",
      "   gruvboxl\n",
      "   monokai\n",
      "   oceans16\n",
      "   onedork\n",
      "   solarizedd\n",
      "   solarizedl\n"
     ]
    }
   ],
   "source": [
    "!jt -l"
   ]
  },
  {
   "cell_type": "code",
   "execution_count": 4,
   "id": "10edf71f",
   "metadata": {},
   "outputs": [],
   "source": [
    "!jt -t chesterish -f inputmono -fs 11 -nf opensans -ofs 10 -altmd -altout -cellw 92%  -T -N -kl"
   ]
  },
  {
   "cell_type": "code",
   "execution_count": 5,
   "id": "ef36913c",
   "metadata": {},
   "outputs": [],
   "source": [
    "from jupyterthemes import jtplot\n",
    "jtplot.style()"
   ]
  },
  {
   "cell_type": "code",
   "execution_count": 6,
   "id": "853d4fa9",
   "metadata": {},
   "outputs": [
    {
     "ename": "ModuleNotFoundError",
     "evalue": "No module named 'shapely'",
     "output_type": "error",
     "traceback": [
      "\u001b[1;31m---------------------------------------------------------------------------\u001b[0m",
      "\u001b[1;31mModuleNotFoundError\u001b[0m                       Traceback (most recent call last)",
      "\u001b[1;32m<ipython-input-6-8dc80e9d65d2>\u001b[0m in \u001b[0;36m<module>\u001b[1;34m\u001b[0m\n\u001b[1;32m----> 1\u001b[1;33m \u001b[1;32mfrom\u001b[0m \u001b[0mshapely\u001b[0m\u001b[1;33m.\u001b[0m\u001b[0mgeometry\u001b[0m \u001b[1;32mimport\u001b[0m \u001b[0mPoint\u001b[0m\u001b[1;33m\u001b[0m\u001b[1;33m\u001b[0m\u001b[0m\n\u001b[0m\u001b[0;32m      2\u001b[0m \u001b[1;32mimport\u001b[0m \u001b[0mpandas\u001b[0m \u001b[1;32mas\u001b[0m \u001b[0mpd\u001b[0m\u001b[1;33m\u001b[0m\u001b[1;33m\u001b[0m\u001b[0m\n\u001b[0;32m      3\u001b[0m \u001b[1;32mimport\u001b[0m \u001b[0mgeopandas\u001b[0m \u001b[1;32mas\u001b[0m \u001b[0mgpd\u001b[0m\u001b[1;33m\u001b[0m\u001b[1;33m\u001b[0m\u001b[0m\n\u001b[0;32m      4\u001b[0m \u001b[1;32mimport\u001b[0m \u001b[0mmatplotlib\u001b[0m\u001b[1;33m.\u001b[0m\u001b[0mpyplot\u001b[0m \u001b[1;32mas\u001b[0m \u001b[0mplt\u001b[0m\u001b[1;33m\u001b[0m\u001b[1;33m\u001b[0m\u001b[0m\n\u001b[0;32m      5\u001b[0m \u001b[1;32mimport\u001b[0m \u001b[0mfolium\u001b[0m\u001b[1;33m\u001b[0m\u001b[1;33m\u001b[0m\u001b[0m\n",
      "\u001b[1;31mModuleNotFoundError\u001b[0m: No module named 'shapely'"
     ]
    }
   ],
   "source": [
    "from shapely.geometry import Point\n",
    "import pandas as pd\n",
    "import geopandas as gpd\n",
    "import matplotlib.pyplot as plt\n",
    "import folium\n",
    "from folium.plugins import MarkerCluster\n",
    "from folium.plugins import FastMarkerCluster"
   ]
  },
  {
   "cell_type": "markdown",
   "id": "6bdcfe2e",
   "metadata": {},
   "source": [
    "#### Let's load the Nashville zipcode data and look at the first few rows\n",
    "    - geopandas reads files with the read_file( ) method\n",
    "    - The zipcode data was downloaded from https://data.nashville.gov/General-Government/Zip-Codes/u7r5-bpku"
   ]
  },
  {
   "cell_type": "code",
   "execution_count": null,
   "id": "b70eefaa",
   "metadata": {},
   "outputs": [],
   "source": [
    "zipcodes = gpd.read_file('../data/zipcodes.geojson')"
   ]
  },
  {
   "cell_type": "code",
   "execution_count": null,
   "id": "bd40931a",
   "metadata": {},
   "outputs": [],
   "source": [
    "print(zipcodes.crs)"
   ]
  },
  {
   "cell_type": "code",
   "execution_count": null,
   "id": "df318dc6",
   "metadata": {},
   "outputs": [],
   "source": [
    "zipcodes.head()"
   ]
  },
  {
   "cell_type": "code",
   "execution_count": null,
   "id": "bca7a940",
   "metadata": {},
   "outputs": [],
   "source": [
    "type(zipcodes)"
   ]
  },
  {
   "cell_type": "code",
   "execution_count": null,
   "id": "11231dd4",
   "metadata": {},
   "outputs": [],
   "source": [
    "zipcodes.loc[0, 'geometry']"
   ]
  },
  {
   "cell_type": "code",
   "execution_count": null,
   "id": "3ed3e2e0",
   "metadata": {},
   "outputs": [],
   "source": [
    "print(zipcodes.loc[0, 'geometry'])"
   ]
  },
  {
   "cell_type": "code",
   "execution_count": null,
   "id": "0b05547d",
   "metadata": {},
   "outputs": [],
   "source": [
    "zipcodes.plot();"
   ]
  },
  {
   "cell_type": "code",
   "execution_count": null,
   "id": "2f5cc73b",
   "metadata": {
    "scrolled": false
   },
   "outputs": [],
   "source": [
    "leg_kwds = {'title': 'Zipcodes',\n",
    "            'loc': 'upper left',\n",
    "            'bbox_to_anchor': (1,1.03),\n",
    "            'ncol': 2}\n",
    "\n",
    "zipcodes.plot(column = 'zip',\n",
    "              figsize=(10,10),\n",
    "              edgecolor = 'black',\n",
    "              legend = True,\n",
    "              legend_kwds = leg_kwds,\n",
    "              cmap = 'viridis'\n",
    "#             cmap = 'terrain'\n",
    "             )\n",
    "\n",
    "plt.show()"
   ]
  },
  {
   "cell_type": "markdown",
   "id": "46e7e744",
   "metadata": {},
   "source": [
    "#### Next you will read in the point data\n",
    "- downloaded from https://data.nashville.gov/History/Historical-Markers/vk65-u7my\n",
    "- cleaned:\n",
    "    - drop unwanted columns (blank lat/lon)\n",
    "- print the shape\n",
    "- take a look at the first 3 rows"
   ]
  },
  {
   "cell_type": "code",
   "execution_count": null,
   "id": "049f920e",
   "metadata": {},
   "outputs": [],
   "source": [
    "hist_marks = pd.read_csv(\"../data/Historical_Markers_cleaned.csv\")\n",
    "print(hist_marks.shape)\n",
    "hist_marks.head(3)"
   ]
  },
  {
   "cell_type": "code",
   "execution_count": null,
   "id": "2497b5a8",
   "metadata": {},
   "outputs": [],
   "source": [
    "hist_marks.info()"
   ]
  },
  {
   "cell_type": "markdown",
   "id": "ffdf2dce",
   "metadata": {},
   "source": [
    "#### In order to spatially join the historical markers with the zipcodes, you will need to create a GeoDataFrame of historical markers\n",
    "- First create a geometry column that is a `Point` datatype"
   ]
  },
  {
   "cell_type": "code",
   "execution_count": null,
   "id": "b17537d0",
   "metadata": {},
   "outputs": [],
   "source": [
    "hist_marks['geometry'] = hist_marks.apply(lambda x: Point((float(x.Longitude),\n",
    "                                                           float(x.Latitude))),\n",
    "                                          axis=1)\n",
    "hist_marks.head(3)"
   ]
  },
  {
   "cell_type": "markdown",
   "id": "9a58b1d6",
   "metadata": {},
   "source": [
    "#### let's clean it up a little bit\n",
    " - you only need the marker name, marker text, geometry"
   ]
  },
  {
   "cell_type": "code",
   "execution_count": null,
   "id": "5ec6fbc9",
   "metadata": {},
   "outputs": [],
   "source": [
    "hist_marks = hist_marks[['Year Erected', 'Civil War Site?', 'Marker Name', 'Marker Text', 'Latitude', 'Longitude', 'geometry']]"
   ]
  },
  {
   "cell_type": "markdown",
   "id": "a0db2ca5",
   "metadata": {},
   "source": [
    "#### Now that the historical marks data has a geometry field, you can use it to build a GeoDataFrame \n",
    "- you want the CRS for the historical marks to match the CRS in the zipcodes GeoDataFrame \n"
   ]
  },
  {
   "cell_type": "code",
   "execution_count": null,
   "id": "bce16664",
   "metadata": {},
   "outputs": [],
   "source": [
    "zipcodes.crs"
   ]
  },
  {
   "cell_type": "markdown",
   "id": "5cd3ae29",
   "metadata": {},
   "source": [
    "#### The GeoDataFrame( ) constructor needs 3 parameters:\n",
    "- a DataFrame\n",
    "- a coordinate reference system\n",
    "- geometry"
   ]
  },
  {
   "cell_type": "code",
   "execution_count": null,
   "id": "ca0ea6cb",
   "metadata": {},
   "outputs": [],
   "source": [
    "hist_geo = gpd.GeoDataFrame(hist_marks,\n",
    "                           crs = zipcodes.crs,\n",
    "                           geometry = hist_marks['geometry'])"
   ]
  },
  {
   "cell_type": "code",
   "execution_count": null,
   "id": "5378f4ed",
   "metadata": {},
   "outputs": [],
   "source": [
    "type(hist_geo)"
   ]
  },
  {
   "cell_type": "markdown",
   "id": "eedee55b",
   "metadata": {},
   "source": [
    "#### Now you are ready to combine historical marks and zipcodes with a spatial join\n",
    "- first a little clean up for the zipcodes\n",
    "    - just keep the zip, po_name, and geometry columns\n",
    "- then construct the join\n",
    "    - keep in mind that you want to find the historical marks within a zip code polygon\n",
    "    - the geometry for the new (combined) GeoDataFrame comes from the left GeoDataFrame"
   ]
  },
  {
   "cell_type": "code",
   "execution_count": null,
   "id": "7f46c3e8",
   "metadata": {},
   "outputs": [],
   "source": [
    "zipcodes = zipcodes[['zip', 'po_name', 'geometry']]"
   ]
  },
  {
   "cell_type": "code",
   "execution_count": null,
   "id": "e64dfe68",
   "metadata": {},
   "outputs": [],
   "source": [
    "zipcodes.info"
   ]
  },
  {
   "cell_type": "code",
   "execution_count": null,
   "id": "e1fea695",
   "metadata": {},
   "outputs": [],
   "source": [
    "marks_by_zip = gpd.sjoin(hist_geo, zipcodes, op = 'within')"
   ]
  },
  {
   "cell_type": "code",
   "execution_count": null,
   "id": "10f726d4",
   "metadata": {},
   "outputs": [],
   "source": [
    "marks_by_zip.head()"
   ]
  },
  {
   "cell_type": "markdown",
   "id": "6361c349",
   "metadata": {},
   "source": [
    "#### Now that the data is joined spatially you can count the historical marks by zip code and see how many marks are within each polygon\n",
    "    - using the value_counts() method\n",
    "    "
   ]
  },
  {
   "cell_type": "code",
   "execution_count": null,
   "id": "1730dd85",
   "metadata": {},
   "outputs": [],
   "source": [
    "marks_by_zip['zip'].value_counts()"
   ]
  },
  {
   "cell_type": "markdown",
   "id": "19e87022",
   "metadata": {},
   "source": [
    "#### Let's take a closer look at the 42 historical marks in the 37203 zip code\n",
    "    - filter the marks_by_zip to get just the historical marks in 37203\n",
    "    - filter the zip code geodataframe to just the polygon (row) for 37203"
   ]
  },
  {
   "cell_type": "code",
   "execution_count": null,
   "id": "539596e8",
   "metadata": {},
   "outputs": [],
   "source": [
    "# marks_in_37203 = marks_by_zip.loc[marks_by_zip['zip']]\n",
    "# marks_in_37203.shape"
   ]
  },
  {
   "cell_type": "code",
   "execution_count": null,
   "id": "5b68ba93",
   "metadata": {},
   "outputs": [],
   "source": [
    "# polygon37203 = zipcodes.loc[zipcodes['zip'] == '37203']\n",
    "# polygon37203.shape"
   ]
  },
  {
   "cell_type": "code",
   "execution_count": null,
   "id": "ce69a5c4",
   "metadata": {},
   "outputs": [],
   "source": [
    "# polygon37203"
   ]
  },
  {
   "cell_type": "code",
   "execution_count": null,
   "id": "d9679af0",
   "metadata": {},
   "outputs": [],
   "source": [
    "hist_marks_geo= gpd.GeoDataFrame(hist_marks,\n",
    "                                crs = zipcodes.crs,\n",
    "                                geometry = hist_marks['geometry'])"
   ]
  },
  {
   "cell_type": "code",
   "execution_count": null,
   "id": "cc15eb06",
   "metadata": {},
   "outputs": [],
   "source": [
    "type(hist_marks_geo)"
   ]
  },
  {
   "cell_type": "code",
   "execution_count": null,
   "id": "6af28b59",
   "metadata": {},
   "outputs": [],
   "source": [
    "type(zipcodes)"
   ]
  },
  {
   "cell_type": "markdown",
   "id": "bf6b37c0",
   "metadata": {},
   "source": [
    "#### Now plot these two together\n",
    "    - first plot the polygons for 37203 and make them gray\n",
    "    - next plot the points for the historical marks and color them by a Year Erected"
   ]
  },
  {
   "cell_type": "code",
   "execution_count": null,
   "id": "bf2f0e01",
   "metadata": {},
   "outputs": [],
   "source": [
    "# ax = polygon37203.plot(figsize = (8,10), color = 'gray')\n",
    "# hist_marks.plot(ax = ax, column = 'Year Erected')\n",
    "# plt.show();"
   ]
  },
  {
   "cell_type": "code",
   "execution_count": null,
   "id": "249b9525",
   "metadata": {},
   "outputs": [],
   "source": [
    "ax = zipcodes.plot(figsize = (8,10), color = 'gray')\n",
    "hist_marks_geo.plot(ax = ax, column = 'Year Erected')\n",
    "plt.show();"
   ]
  },
  {
   "cell_type": "markdown",
   "id": "012945e2",
   "metadata": {},
   "source": [
    "#### We're getting there! It would be helpful to have streets though, wouldn't it? We can add a street map with the folium package.\n",
    "\n",
    "#### folium maps require a center point for the street map.\n",
    "- Make use of a GeoSeries attribute (.centroid) which gives the center of a polygon"
   ]
  },
  {
   "cell_type": "code",
   "execution_count": null,
   "id": "877e3592",
   "metadata": {},
   "outputs": [],
   "source": [
    "# polygon37203.geometry.centroid"
   ]
  },
  {
   "cell_type": "code",
   "execution_count": null,
   "id": "4b1c4e83",
   "metadata": {},
   "outputs": [],
   "source": [
    "polygon37219 = zipcodes.loc[zipcodes['zip'] == '37219']\n",
    "polygon37219.shape"
   ]
  },
  {
   "cell_type": "code",
   "execution_count": null,
   "id": "1fd223d8",
   "metadata": {},
   "outputs": [],
   "source": [
    "polygon37219"
   ]
  },
  {
   "cell_type": "code",
   "execution_count": null,
   "id": "2e36c525",
   "metadata": {},
   "outputs": [],
   "source": [
    "# center = polygon37203.geometry.centroid\n",
    "# print(center)"
   ]
  },
  {
   "cell_type": "code",
   "execution_count": null,
   "id": "031670a6",
   "metadata": {},
   "outputs": [],
   "source": [
    "center = polygon37219.geometry.centroid\n",
    "print(center)"
   ]
  },
  {
   "cell_type": "markdown",
   "id": "78885ac2",
   "metadata": {},
   "source": [
    "#### Folium requires a location point as an array\n",
    "- with latitude first\n",
    "- but shapely Points have longitude first"
   ]
  },
  {
   "cell_type": "code",
   "execution_count": null,
   "id": "3a8740c0",
   "metadata": {},
   "outputs": [],
   "source": [
    "area_center = [center.y, center.x]\n",
    "print(area_center)"
   ]
  },
  {
   "cell_type": "markdown",
   "id": "6e70ecef",
   "metadata": {},
   "source": [
    "#### To create a folium map just call the folium Map() constructor\n",
    "- location is the only argument required by the constructor\n",
    "    - Set area_center as the location of the folium map.\n",
    "- zoom_start is an optional argument\n",
    "    - A setting of 12 should get us nice and close."
   ]
  },
  {
   "cell_type": "code",
   "execution_count": null,
   "id": "3faab97f",
   "metadata": {},
   "outputs": [],
   "source": [
    "# map_37203 = folium.Map(location = area_center, zoom_start = 12)\n",
    "# map_37203"
   ]
  },
  {
   "cell_type": "code",
   "execution_count": null,
   "id": "54da1d18",
   "metadata": {},
   "outputs": [],
   "source": [
    "map_nash = folium.Map(location = area_center, zoom_start = 12)\n",
    "map_nash"
   ]
  },
  {
   "cell_type": "markdown",
   "id": "c96b2bfa",
   "metadata": {},
   "source": [
    "#### Next, let's add our 37203 polygon and Historical Marks markers.\n",
    "\n",
    "itterrows() is a generator that iterates through the rows of a DataFrame and returns a tuple with the row id and row values.\n",
    "   \n",
    "   - Below, we are printing the row values for the first 3 rows as we iterate through the GeoDataFrame of Historical Markers in 37203.\n",
    "   - This idea will be helpful for creating our markers!"
   ]
  },
  {
   "cell_type": "code",
   "execution_count": null,
   "id": "7834a8db",
   "metadata": {},
   "outputs": [],
   "source": [
    "i=0\n",
    "# for row_index, row_values in marks_in_37203.iterrows():\n",
    "for row_index, row_values in hist_marks.iterrows():\n",
    "    if i<3:\n",
    "        print(' ')\n",
    "        print('index is', row_index)\n",
    "        print('values are:')\n",
    "        print(' ')\n",
    "        print(row_values)\n",
    "        print(' ')\n",
    "        print('xxxxxxxxxxxxxxxxxxxxxxxxxxxxxxxxxxxxxxxxxxxxxxxxxxxxxxxxxxxxxxxxxxxx')\n",
    "        i+=1"
   ]
  },
  {
   "cell_type": "markdown",
   "id": "d3d9fa1e",
   "metadata": {},
   "source": [
    "#### Create map_37203 again with additional features:\n",
    "- add the zipcode area outline (polygon_37203)\n",
    "- iterate through the marks_in_37203 to\n",
    "    - create location from each Latitude and Longitude\n",
    "    - create a popup from the stop column\n",
    "    - build a marker from each location and popup\n",
    "    - add the marker to map_37203\n",
    "- display map_37203"
   ]
  },
  {
   "cell_type": "code",
   "execution_count": null,
   "id": "e0bc5954",
   "metadata": {},
   "outputs": [],
   "source": [
    "# map_37203 = folium.Map(location = area_center, zoom_start =12)\n",
    "map_nash = folium.Map(location = area_center, zoom_start = 10.5)\n",
    "\n",
    "#folium.GeoJson(polygon37203).add_to(map_37203)\n",
    "folium.GeoJson(polygon37219).add_to(map_nash)\n",
    "\n",
    "#for row_index, row_values in marks_in_37203.iterrows():\n",
    "for row_index, row_values in hist_marks.iterrows():\n",
    "    loc = [row_values['Latitude'], row_values['Longitude']]\n",
    "    pop = str(row_values['Marker Name'])\n",
    "    icon = folium.Icon(color=\"darkpurple\",icon='institution', prefix='fa')\n",
    "    \n",
    "    marker = folium.Marker(\n",
    "            location = loc,\n",
    "            popup = pop,\n",
    "            icon = icon)\n",
    "    \n",
    "#    marker.add_to(map_37203)\n",
    "    marker.add_to(map_nash)\n",
    "\n",
    "# map_37203.save('../maps/map37203.html')\n",
    "map_nash.save('../maps/map_nash.html')\n",
    "\n",
    "# map_37203\n",
    "map_nash"
   ]
  },
  {
   "cell_type": "code",
   "execution_count": null,
   "id": "3e522fe9",
   "metadata": {
    "scrolled": false
   },
   "outputs": [],
   "source": [
    "# map_37203 = folium.Map(location = area_center, zoom_start =12)\n",
    "map_nash_color = folium.Map(location = area_center, zoom_start = 10.5)\n",
    "\n",
    "#folium.GeoJson(polygon37203).add_to(map_37203)\n",
    "folium.GeoJson(polygon37219).add_to(map_nash_color)\n",
    "\n",
    "#for row_index, row_values in marks_in_37203.iterrows():\n",
    "for row_index, row_values in hist_marks.iterrows():\n",
    "    loc = [row_values['Latitude'], row_values['Longitude']]\n",
    "    pop = str(row_values['Marker Name']), str(row_values['Marker Text'])\n",
    "    if row_values['Civil War Site?'] == True:\n",
    "        icon =folium.Icon(color=\"red\", icon=\"users\", prefix='fa')\n",
    "    else:\n",
    "        icon=folium.Icon(color=\"darkpurple\",icon='institution', prefix='fa')\n",
    "    \n",
    "        \n",
    "    \n",
    "    marker = folium.Marker(\n",
    "            location = loc,\n",
    "            popup = pop,\n",
    "            icon = icon)\n",
    "    \n",
    "#    marker.add_to(map_37203)\n",
    "    marker.add_to(map_nash_color)\n",
    "\n",
    "# map_37203.save('../maps/map37203.html')\n",
    "map_nash_color.save('../maps/map_nash.html')\n",
    "\n",
    "# map_37203\n",
    "map_nash_color"
   ]
  },
  {
   "cell_type": "markdown",
   "id": "86271749",
   "metadata": {},
   "source": [
    "#### If you have a lot of markers, you might want to use marker clusters\n",
    "- Folium has MarkerCluster() and FastMarkerCluster()\n",
    "- Construct a MarkerCluster()\n",
    "    - construct a MarkerCluster() and .add_to() the map\n",
    "    - when you loop through the data and create markers add those to the marker cluster\n",
    "- Construct a FastMarkerCluster() by passing a list of locations"
   ]
  },
  {
   "cell_type": "markdown",
   "id": "9bb169f6",
   "metadata": {},
   "source": [
    "#### You can save your map as an html file and it will retain the interactive qualities"
   ]
  },
  {
   "cell_type": "code",
   "execution_count": null,
   "id": "e2b0df35",
   "metadata": {},
   "outputs": [],
   "source": [
    "folium.Map?"
   ]
  },
  {
   "cell_type": "code",
   "execution_count": null,
   "id": "1d8cad9d",
   "metadata": {},
   "outputs": [],
   "source": [
    "#cluster_map_37203 = folium.Map(location = area_center, zoom_start = 12)\n",
    "cluster_map_nash = folium.Map(location = area_center, zoom_start = 12)\n",
    "\n",
    "#marker_cluster = MarkerCluster().add_to(cluster_map_37203)\n",
    "marker_cluster = MarkerCluster().add_to(cluster_map_nash)\n",
    "\n",
    "#folium.GeoJson(polygon37203).add_to(cluster_map_37203)\n",
    "folium.GeoJson(polygon37219).add_to(cluster_map_nash)\n",
    "\n",
    "#for row_index, row_values in marks_in_37203.iterrows():\n",
    "for row_index, row_values in hist_marks.iterrows():\n",
    "    loc = [row_values['Latitude'], row_values['Longitude']]\n",
    "    pop = str(row_values['Marker Name'])\n",
    "    icon = folium.Icon(color='darkpurple', icon='institution', prefix='fa')\n",
    "    \n",
    "    marker = folium.Marker(\n",
    "             location = loc,\n",
    "             popup = pop,\n",
    "             icon = icon)\n",
    "    \n",
    "    marker.add_to(marker_cluster)\n",
    "    \n",
    "#cluster_map_37203.save('../maps/cluster37203.html')\n",
    "cluster_map_nash.save('../maps/cluster_nash.html')\n",
    "\n",
    "#cluster_map_37203\n",
    "cluster_map_nash"
   ]
  },
  {
   "cell_type": "code",
   "execution_count": null,
   "id": "b11270e0",
   "metadata": {},
   "outputs": [],
   "source": [
    "#cluster_map_37203 = folium.Map(location = area_center, zoom_start = 12)\n",
    "cluster_map_nash_color = folium.Map(location = area_center, zoom_start = 12)\n",
    "\n",
    "#marker_cluster = MarkerCluster().add_to(cluster_map_37203)\n",
    "marker_cluster = MarkerCluster().add_to(cluster_map_nash_color)\n",
    "\n",
    "#folium.GeoJson(polygon37203).add_to(cluster_map_37203)\n",
    "folium.GeoJson(polygon37219).add_to(cluster_map_nash_color)\n",
    "\n",
    "#for row_index, row_values in marks_in_37203.iterrows():\n",
    "for row_index, row_values in hist_marks.iterrows():\n",
    "    loc = [row_values['Latitude'], row_values['Longitude']]\n",
    "    pop = str(row_values['Marker Name']), str(row_values['Marker Text'])\n",
    "    if row_values['Civil War Site?'] == True:\n",
    "        icon =folium.Icon(color=\"red\", icon=\"users\", prefix='fa')\n",
    "    else:\n",
    "        icon=folium.Icon(color=\"darkpurple\",icon='institution', prefix='fa')\n",
    "    \n",
    "    marker = folium.Marker(\n",
    "             location = loc,\n",
    "             popup = pop,\n",
    "             icon = icon)\n",
    "    \n",
    "    marker.add_to(marker_cluster)\n",
    "    \n",
    "#cluster_map_37203.save('../maps/cluster37203.html')\n",
    "cluster_map_nash_color.save('../maps/cluster_nash_color.html')\n",
    "\n",
    "#cluster_map_37203\n",
    "cluster_map_nash_color"
   ]
  },
  {
   "cell_type": "code",
   "execution_count": null,
   "id": "67897448",
   "metadata": {},
   "outputs": [],
   "source": [
    "#map_37203 = folium.Map(location = area_center, zoom_start = 12)\n",
    "map_nash = folium.Map(location = area_center, zoom_start = 12)\n",
    "\n",
    "#folium.GeoJson(polygon37203).add_to(map_37203)\n",
    "folium.GeoJson(polygon37219).add_to(map_nash)\n",
    "\n",
    "#locations = marks_in_37203[['Latitude', 'Longitude']].values.tolist()\n",
    "#map_37203.add_child(FastMarkerCluster(locations))\n",
    "locations = hist_marks[['Latitude', 'Longitude']].values.tolist()\n",
    "map_nash.add_child(FastMarkerCluster(locations))\n",
    "\n",
    "#map_37203\n",
    "map_nash;"
   ]
  }
 ],
 "metadata": {
  "kernelspec": {
   "display_name": "Python 3",
   "language": "python",
   "name": "python3"
  },
  "language_info": {
   "codemirror_mode": {
    "name": "ipython",
    "version": 3
   },
   "file_extension": ".py",
   "mimetype": "text/x-python",
   "name": "python",
   "nbconvert_exporter": "python",
   "pygments_lexer": "ipython3",
   "version": "3.8.8"
  }
 },
 "nbformat": 4,
 "nbformat_minor": 5
}
